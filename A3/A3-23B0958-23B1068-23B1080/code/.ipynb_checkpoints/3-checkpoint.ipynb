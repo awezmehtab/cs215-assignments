{
 "cells": [
  {
   "cell_type": "markdown",
   "id": "60845f71",
   "metadata": {},
   "source": [
    "# Polynomial Regression\n",
    "As shown in our report, given data `data` = $\\{(x_1, y_1),\\dots, (x_n, y_n)\\}$"
   ]
  },
  {
   "cell_type": "code",
   "execution_count": null,
   "id": "ae15dfad",
   "metadata": {},
   "outputs": [],
   "source": []
  }
 ],
 "metadata": {
  "kernelspec": {
   "display_name": "Python 3 (ipykernel)",
   "language": "python",
   "name": "python3"
  },
  "language_info": {
   "codemirror_mode": {
    "name": "ipython",
    "version": 3
   },
   "file_extension": ".py",
   "mimetype": "text/x-python",
   "name": "python",
   "nbconvert_exporter": "python",
   "pygments_lexer": "ipython3",
   "version": "3.10.12"
  }
 },
 "nbformat": 4,
 "nbformat_minor": 5
}
