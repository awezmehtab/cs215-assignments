{
 "cells": [
  {
   "cell_type": "markdown",
   "metadata": {},
   "source": [
    "# Question 4"
   ]
  },
  {
   "cell_type": "code",
   "metadata": {
    "ExecuteTime": {
     "end_time": "2024-11-10T17:17:21.044457Z",
     "start_time": "2024-11-10T17:17:21.036036Z"
    }
   },
   "source": [
    "import numpy as pn\n",
    "import matplotlib.pyplot as plt\n",
    "import seaborn as sns\n",
    "import pandas as pd"
   ],
   "outputs": [],
   "execution_count": 15
  },
  {
   "cell_type": "code",
   "metadata": {
    "ExecuteTime": {
     "end_time": "2024-11-10T17:17:21.096499Z",
     "start_time": "2024-11-10T17:17:21.092170Z"
    }
   },
   "source": [
    "import warnings\n",
    "warnings.simplefilter(action='ignore', category=FutureWarning)"
   ],
   "outputs": [],
   "execution_count": 16
  },
  {
   "cell_type": "code",
   "metadata": {
    "ExecuteTime": {
     "end_time": "2024-11-10T17:17:21.185093Z",
     "start_time": "2024-11-10T17:17:21.149291Z"
    }
   },
   "source": [
    "df = pd.read_csv('TaxiData.csv')"
   ],
   "outputs": [],
   "execution_count": 17
  },
  {
   "cell_type": "markdown",
   "metadata": {},
   "source": [
    "### Cleaning dataset just like its done in Q1"
   ]
  },
  {
   "cell_type": "code",
   "metadata": {
    "ExecuteTime": {
     "end_time": "2024-11-10T17:17:21.321910Z",
     "start_time": "2024-11-10T17:17:21.205493Z"
    }
   },
   "source": [
    "df['trip_start_timestamp'] = pd.to_datetime(df['trip_start_timestamp'], unit='s')\n",
    "categorical_columns = ['pickup_community_area', 'dropoff_community_area', 'payment_type', 'company', 'dropoff_census_tract']\n",
    "for col in categorical_columns:\n",
    "    df[col] = df[col].astype('category')\n",
    "\n",
    "df['fare'].fillna(df['fare'].mean(), inplace=True)\n",
    "df['trip_seconds'].fillna(df['trip_seconds'].median(), inplace=True)\n",
    "df['pickup_latitude'].fillna(df['pickup_latitude'].median(), inplace=True)\n",
    "df['pickup_longitude'].fillna(df['pickup_longitude'].median(), inplace=True)\n",
    "df['dropoff_latitude'].fillna(df['dropoff_latitude'].median(), inplace=True)\n",
    "df['dropoff_longitude'].fillna(df['dropoff_longitude'].median(), inplace=True)\n",
    "\n",
    "df.drop(columns=['pickup_census_tract'], inplace=True)\n",
    "\n",
    "for col in categorical_columns:\n",
    "    if 'Unknown' not in df[col].cat.categories:\n",
    "        df[col] = df[col].cat.add_categories(['Unknown'])\n",
    "    df[col].fillna('Unknown', inplace=True)"
   ],
   "outputs": [],
   "execution_count": 18
  },
  {
   "cell_type": "code",
   "metadata": {
    "ExecuteTime": {
     "end_time": "2024-11-10T17:17:21.360022Z",
     "start_time": "2024-11-10T17:17:21.347199Z"
    }
   },
   "source": [
    "df.info()"
   ],
   "outputs": [
    {
     "name": "stdout",
     "output_type": "stream",
     "text": [
      "<class 'pandas.core.frame.DataFrame'>\n",
      "RangeIndex: 15002 entries, 0 to 15001\n",
      "Data columns (total 17 columns):\n",
      " #   Column                  Non-Null Count  Dtype         \n",
      "---  ------                  --------------  -----         \n",
      " 0   pickup_community_area   15002 non-null  category      \n",
      " 1   fare                    15002 non-null  float64       \n",
      " 2   trip_start_month        15002 non-null  int64         \n",
      " 3   trip_start_hour         15002 non-null  int64         \n",
      " 4   trip_start_day          15002 non-null  int64         \n",
      " 5   trip_start_timestamp    15002 non-null  datetime64[ns]\n",
      " 6   pickup_latitude         15002 non-null  float64       \n",
      " 7   pickup_longitude        15002 non-null  float64       \n",
      " 8   dropoff_latitude        15002 non-null  float64       \n",
      " 9   dropoff_longitude       15002 non-null  float64       \n",
      " 10  trip_miles              15002 non-null  float64       \n",
      " 11  dropoff_census_tract    15002 non-null  category      \n",
      " 12  payment_type            15002 non-null  category      \n",
      " 13  company                 15002 non-null  category      \n",
      " 14  trip_seconds            15002 non-null  float64       \n",
      " 15  dropoff_community_area  15002 non-null  category      \n",
      " 16  tips                    15002 non-null  float64       \n",
      "dtypes: category(5), datetime64[ns](1), float64(8), int64(3)\n",
      "memory usage: 1.5 MB\n"
     ]
    }
   ],
   "execution_count": 19
  },
  {
   "cell_type": "markdown",
   "metadata": {},
   "source": [
    "## Q4.a"
   ]
  },
  {
   "cell_type": "code",
   "metadata": {
    "ExecuteTime": {
     "end_time": "2024-11-10T17:17:21.610683Z",
     "start_time": "2024-11-10T17:17:21.406743Z"
    }
   },
   "source": [
    "plt.figure(figsize=(14, 6))\n",
    "plt.subplot(1, 2, 1)\n",
    "sns.boxplot(x=df['fare'])\n",
    "plt.title(\"Box Plot of Fare\")\n",
    "\n",
    "plt.subplot(1, 2, 2)\n",
    "sns.boxplot(x=df['tips'])\n",
    "plt.title(\"Box Plot of Tips\")\n",
    "\n",
    "plt.tight_layout()\n",
    "plt.show()"
   ],
   "outputs": [
    {
     "data": {
      "text/plain": [
       "<Figure size 1400x600 with 2 Axes>"
      ],
      "image/png": "[encoded data removed]"
     },
     "metadata": {},
     "output_type": "display_data"
    }
   ],
   "execution_count": 20
  },
  {
   "cell_type": "markdown",
   "metadata": {},
   "source": [
    "### Interpretation: Impact of Outliers on Average Calculations\n",
    "\n",
    "Outliers in the **fare** and **tips** data can significantly affect the average (mean) values in the dataset.\n",
    "\n",
    "1. **Fare Outliers**:\n",
    "   - The unusually high fare values, reaching up to around 700, are well beyond the range of typical fares.\n",
    "   - These outliers increase the mean fare, making it higher than what a \"typical\" fare would be for most trips. This inflation of the mean can lead to a misrepresentation of what an average fare looks like in practice, potentially leading to flawed business insights or incorrect pricing models if the mean is assumed to represent typical fares.\n",
    "\n",
    "2. **Tip Outliers**:\n",
    "   - High tip values (over 10, for example) are uncommon, and their presence inflates the mean tip value.\n",
    "   - Since most tips are relatively small, even a few high tips can skew the average upward, making it less representative of the actual tipping behavior. This could mislead stakeholders into overestimating how much drivers typically receive in tips.\n",
    "\n",
    "### Suggested Methods for Handling Outliers in Predictive Models\n",
    "\n",
    "To improve model performance and accuracy, it’s important to handle outliers effectively. Here are some common methods used in predictive modeling:\n",
    "\n",
    "1. **Remove Outliers**:\n",
    "   - *When to Use*: This approach is helpful the outliers are due to data entry errors or if they represent rare cases not relevant to general trends.\n",
    "   - *How to Apply*: Outliers are typically defined as values more than 1.5 times the interquartile range (IQR) above the 75th percentile or below the 25th percentile. Removing them can reduce the skew but may lead to data loss if valid cases are discarded.\n",
    "\n",
    "2. **Cap (or Clip) Outliers**:\n",
    "   - *When to Use*: Capping is useful when outliers are valid data points but disproportionately affect the mean and variance.\n",
    "   - *How to Apply*: Set an upper limit (for example, the 95th or 99th percentile) and replace values above this limit with the threshold. For example, if the 99th percentile fare is 50, any fare above this can be capped at 50.\n",
    "   - *Benefits*: This approach retains all data while reducing the impact of extreme values.\n",
    "\n",
    "3. **Transform Variables**:\n",
    "   - *When to Use*: Transformation is suitable for continuous data with a long-tailed distribution, like fare values.\n",
    "   - *How to Apply*: Apply mathematical transformations such as log, square root, or cube root. For example, using `log(fare + 1)` compresses the range, reducing the influence of high values.\n",
    "   - *Benefits*: Transforming the variable reduces the effect of outliers on the mean and can improve model stability, though it changes the scale of the data, which may require careful interpretation.\n",
    "\n"
   ]
  },
  {
   "cell_type": "code",
   "metadata": {
    "ExecuteTime": {
     "end_time": "2024-11-10T17:17:21.680344Z",
     "start_time": "2024-11-10T17:17:21.630588Z"
    }
   },
   "source": [
    "from sklearn.model_selection import train_test_split\n",
    "from sklearn.linear_model import LinearRegression\n",
    "from sklearn.metrics import mean_squared_error\n",
    "import numpy as np\n",
    "\n",
    "X = df[['trip_miles', 'trip_seconds', 'pickup_latitude', 'pickup_longitude', 'dropoff_latitude', 'dropoff_longitude']]\n",
    "y = df['fare']\n",
    "\n",
    "# Split data\n",
    "X_train, X_test, y_train, y_test = train_test_split(X, y, test_size=0.2, random_state=42)\n",
    "\n",
    "# Train the model\n",
    "model = LinearRegression()\n",
    "model.fit(X_train, y_train)\n",
    "\n",
    "# Make predictions\n",
    "y_pred = model.predict(X_test)\n"
   ],
   "outputs": [],
   "execution_count": 21
  },
  {
   "cell_type": "code",
   "metadata": {
    "ExecuteTime": {
     "end_time": "2024-11-10T17:17:21.769126Z",
     "start_time": "2024-11-10T17:17:21.762876Z"
    }
   },
   "source": [
    "from sklearn.metrics import mean_absolute_error\n",
    "\n",
    "rmse = np.sqrt(mean_squared_error(y_test, y_pred))\n",
    "mae = mean_absolute_error(y_test, y_pred)\n",
    "print(f'MAE: {mae}')\n",
    "print(f'RMSE: {rmse}')"
   ],
   "outputs": [
    {
     "name": "stdout",
     "output_type": "stream",
     "text": [
      "MAE: 3.60155960581139\n",
      "RMSE: 5.9381421371229735\n"
     ]
    }
   ],
   "execution_count": 22
  },
  {
   "cell_type": "code",
   "metadata": {
    "ExecuteTime": {
     "end_time": "2024-11-10T17:17:21.825665Z",
     "start_time": "2024-11-10T17:17:21.819720Z"
    }
   },
   "source": [
    "y_test.mean()"
   ],
   "outputs": [
    {
     "data": {
      "text/plain": [
       "11.74181939353549"
      ]
     },
     "execution_count": 23,
     "metadata": {},
     "output_type": "execute_result"
    }
   ],
   "execution_count": 23
  },
  {
   "cell_type": "code",
   "metadata": {
    "ExecuteTime": {
     "end_time": "2024-11-10T17:17:21.882576Z",
     "start_time": "2024-11-10T17:17:21.873395Z"
    }
   },
   "source": [
    "Q1 = df['fare'].quantile(0.25)\n",
    "Q3 = df['fare'].quantile(0.75)\n",
    "IQR = Q3 - Q1\n",
    "df = df[(df['fare'] >= Q1 - 1.5 * IQR) & (df['fare'] <= Q3 + 1.5 * IQR)]"
   ],
   "outputs": [],
   "execution_count": 24
  },
  {
   "cell_type": "code",
   "metadata": {
    "ExecuteTime": {
     "end_time": "2024-11-10T17:17:21.990573Z",
     "start_time": "2024-11-10T17:17:21.931146Z"
    }
   },
   "source": [
    "X = df[['trip_miles', 'trip_seconds', 'pickup_latitude', 'pickup_longitude', 'dropoff_latitude', 'dropoff_longitude']]\n",
    "y = df['fare']\n",
    "\n",
    "X_train, X_test, y_train, y_test = train_test_split(X, y, test_size=0.2, random_state=42)\n",
    "\n",
    "model.fit(X_train, y_train)\n",
    "model.fit(X_train, y_train)\n",
    "y_pred = model.predict(X_test)"
   ],
   "outputs": [],
   "execution_count": 25
  },
  {
   "cell_type": "code",
   "metadata": {
    "ExecuteTime": {
     "end_time": "2024-11-10T17:17:22.066798Z",
     "start_time": "2024-11-10T17:17:22.058499Z"
    }
   },
   "source": [
    "rmse = np.sqrt(mean_squared_error(y_test, y_pred))\n",
    "mae = mean_absolute_error(y_test, y_pred)\n",
    "print(f'MAE: {mae}')\n",
    "print(f'RMSE: {rmse}')"
   ],
   "outputs": [
    {
     "name": "stdout",
     "output_type": "stream",
     "text": [
      "MAE: 2.287965985389521\n",
      "RMSE: 3.581337895888859\n"
     ]
    }
   ],
   "execution_count": 26
  },
  {
   "cell_type": "markdown",
   "metadata": {},
   "source": [
    "#### Model Effectiveness\n",
    "\n",
    "After processing the model through our validation checks, we get the following values,\n",
    "\n",
    "- **Before Outlier Removal**\n",
    "  - **MAE**: 3.60\n",
    "  - **RMSE**: 5.94\n",
    "  - **Mean of Actual Fares (y_test.mean())**: 8.38\n",
    "\n",
    "- **After Outlier Removal**\n",
    "  - **MAE**: 2.29\n",
    "  - **RMSE**: 3.58\n",
    "\n",
    "These metrics show that the model performed much better after removing outliers. Precisely, MAE and RMSE decreased, meaning that the model is closer to actual fare values after excluding outliers. This may suggest extreme fare values skewed the model initially and removing them resulted in achieving more accurate, consistent predictions.\n",
    "\n",
    "#### Potential Limitations\n",
    "\n",
    "1. **Restricted Feature Set**: The model heavily relies on trip miles, trip seconds, and location data (latitude/longitude). However, these cannot possibly include everything relevant that might affect the fare. A few examples of what is missing with this type of model are: **time-based factors** such as peak hours, day of week, and special events that literally contribute to the fare and, therefore, are omitted in this model.\n",
    "2. **Linear Assumption**: Here, it assumes linearity between predictors and fare; this may be far from the fare dynamics in nature. Fares may depend in a much more complex and non-linear manner upon trip distance, time, or location, for which this model would probably fail to capture.\n",
    "\n",
    "3. Handling Outliers Removing outliers improved the model's performance; however, in real-world application, it is not a very good approach to exclude high-fare or high-duration trips. High-fare trips can be valid edge cases (e.g. long-ride airport trips or luxury services) that we would want to predict correctly rather than exclude.\n",
    "\n",
    "4. **Chances of over-fitting**: After removal of outliers, the model would be fit well for the usual trips but fail to predict in the infrequent or odd cases if those are introduced again in test environment\n",
    "\n",
    "#### Improvable aspects\n",
    "\n",
    "1. **Add more features**\n",
    "   - Adding **trip start hour, day of week, payment type, company** would have many more insights and more precise prediction.\n",
    "   - **Engineered Features**: Develop other feature derivations. For instance, straight-line distance between pickup and drop-off locations, or binary indicators for peak hours vs. off-peak.\n",
    "\n",
    "2. **Feature Scaling**:\n",
    "   - **Normalize or standardize** features like distance and duration to improve model convergence and stability. For linear regression, scaling can help if the features have vastly different ranges, as it prevents any one feature from disproportionately influencing the model.\n",
    "\n",
    "3. **Use Cross-Validation**:\n",
    "   - Instead of a single train-test split, use **cross-validation** (e.g., k-fold cross-validation) to assess the model's performance across multiple data splits. This helps to ensure that the model's performance metrics (MAE, RMSE) are consistent and not overly dependent on one specific train-test split.\n",
    "\n"
   ]
  }
 ],
 "metadata": {
  "kernelspec": {
   "display_name": "Python 3",
   "language": "python",
   "name": "python3"
  },
  "language_info": {
   "codemirror_mode": {
    "name": "ipython",
    "version": 3
   },
   "file_extension": ".py",
   "mimetype": "text/x-python",
   "name": "python",
   "nbconvert_exporter": "python",
   "pygments_lexer": "ipython3",
   "version": "3.12.7"
  }
 },
 "nbformat": 4,
 "nbformat_minor": 2
}
