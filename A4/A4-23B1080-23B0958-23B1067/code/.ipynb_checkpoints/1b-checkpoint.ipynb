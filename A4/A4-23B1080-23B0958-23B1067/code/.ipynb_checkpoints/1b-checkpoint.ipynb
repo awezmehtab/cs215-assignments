{
 "cells": [
  {
   "cell_type": "markdown",
   "metadata": {},
   "source": [
    "# Question 1 (b)"
   ]
  },
  {
   "cell_type": "code",
   "execution_count": 1,
   "metadata": {},
   "outputs": [],
   "source": [
    "import numpy as np\n",
    "import matplotlib.pyplot as plt\n",
    "import pandas as pd"
   ]
  },
  {
   "cell_type": "markdown",
   "metadata": {},
   "source": [
    "### To ignore any warning"
   ]
  },
  {
   "cell_type": "code",
   "execution_count": 2,
   "metadata": {},
   "outputs": [],
   "source": [
    "import warnings\n",
    "warnings.filterwarnings('ignore')"
   ]
  },
  {
   "cell_type": "code",
   "execution_count": 3,
   "metadata": {},
   "outputs": [
    {
     "data": {
      "text/html": [
       "<div>\n",
       "<style scoped>\n",
       "    .dataframe tbody tr th:only-of-type {\n",
       "        vertical-align: middle;\n",
       "    }\n",
       "\n",
       "    .dataframe tbody tr th {\n",
       "        vertical-align: top;\n",
       "    }\n",
       "\n",
       "    .dataframe thead th {\n",
       "        text-align: right;\n",
       "    }\n",
       "</style>\n",
       "<table border=\"1\" class=\"dataframe\">\n",
       "  <thead>\n",
       "    <tr style=\"text-align: right;\">\n",
       "      <th></th>\n",
       "      <th>vehicle_no</th>\n",
       "      <th>timestamp</th>\n",
       "      <th>camera_id</th>\n",
       "    </tr>\n",
       "  </thead>\n",
       "  <tbody>\n",
       "    <tr>\n",
       "      <th>0</th>\n",
       "      <td>MHUN7063</td>\n",
       "      <td>2024-09-12 05:00:00</td>\n",
       "      <td>1</td>\n",
       "    </tr>\n",
       "    <tr>\n",
       "      <th>1</th>\n",
       "      <td>MHYN4677</td>\n",
       "      <td>2024-09-12 05:00:00</td>\n",
       "      <td>1</td>\n",
       "    </tr>\n",
       "    <tr>\n",
       "      <th>2</th>\n",
       "      <td>MHEL6595</td>\n",
       "      <td>2024-09-12 05:00:00</td>\n",
       "      <td>1</td>\n",
       "    </tr>\n",
       "    <tr>\n",
       "      <th>3</th>\n",
       "      <td>MHNQ2590</td>\n",
       "      <td>2024-09-12 05:00:00</td>\n",
       "      <td>1</td>\n",
       "    </tr>\n",
       "    <tr>\n",
       "      <th>4</th>\n",
       "      <td>MHHA0518</td>\n",
       "      <td>2024-09-12 05:00:00</td>\n",
       "      <td>1</td>\n",
       "    </tr>\n",
       "  </tbody>\n",
       "</table>\n",
       "</div>"
      ],
      "text/plain": [
       "   vehicle_no   timestamp             camera_id\n",
       "0  MHUN7063     2024-09-12 05:00:00           1\n",
       "1  MHYN4677     2024-09-12 05:00:00           1\n",
       "2  MHEL6595     2024-09-12 05:00:00           1\n",
       "3  MHNQ2590     2024-09-12 05:00:00           1\n",
       "4  MHHA0518     2024-09-12 05:00:00           1"
      ]
     },
     "execution_count": 3,
     "metadata": {},
     "output_type": "execute_result"
    }
   ],
   "source": [
    "df = pd.read_csv(\"parkingLot.csv\")\n",
    "df.head()"
   ]
  },
  {
   "cell_type": "markdown",
   "metadata": {},
   "source": [
    "## Data preprocessing"
   ]
  },
  {
   "cell_type": "markdown",
   "metadata": {},
   "source": [
    "- Converted time to datetime\n",
    "- Removed unnecessary space from each record\n",
    "- sorted the data according to timestamp"
   ]
  },
  {
   "cell_type": "code",
   "execution_count": 4,
   "metadata": {},
   "outputs": [
    {
     "data": {
      "text/html": [
       "<div>\n",
       "<style scoped>\n",
       "    .dataframe tbody tr th:only-of-type {\n",
       "        vertical-align: middle;\n",
       "    }\n",
       "\n",
       "    .dataframe tbody tr th {\n",
       "        vertical-align: top;\n",
       "    }\n",
       "\n",
       "    .dataframe thead th {\n",
       "        text-align: right;\n",
       "    }\n",
       "</style>\n",
       "<table border=\"1\" class=\"dataframe\">\n",
       "  <thead>\n",
       "    <tr style=\"text-align: right;\">\n",
       "      <th></th>\n",
       "      <th>camera_id</th>\n",
       "      <th>timestamp</th>\n",
       "      <th>vehicle_no</th>\n",
       "    </tr>\n",
       "  </thead>\n",
       "  <tbody>\n",
       "    <tr>\n",
       "      <th>0</th>\n",
       "      <td>1</td>\n",
       "      <td>2024-09-12 05:00:00</td>\n",
       "      <td>MHUN7063</td>\n",
       "    </tr>\n",
       "    <tr>\n",
       "      <th>21</th>\n",
       "      <td>1</td>\n",
       "      <td>2024-09-12 05:00:00</td>\n",
       "      <td>MHMY1867</td>\n",
       "    </tr>\n",
       "    <tr>\n",
       "      <th>20</th>\n",
       "      <td>1</td>\n",
       "      <td>2024-09-12 05:00:00</td>\n",
       "      <td>MHZF8417</td>\n",
       "    </tr>\n",
       "    <tr>\n",
       "      <th>19</th>\n",
       "      <td>1</td>\n",
       "      <td>2024-09-12 05:00:00</td>\n",
       "      <td>MHFU6425</td>\n",
       "    </tr>\n",
       "    <tr>\n",
       "      <th>18</th>\n",
       "      <td>1</td>\n",
       "      <td>2024-09-12 05:00:00</td>\n",
       "      <td>MHHB4038</td>\n",
       "    </tr>\n",
       "    <tr>\n",
       "      <th>...</th>\n",
       "      <td>...</td>\n",
       "      <td>...</td>\n",
       "      <td>...</td>\n",
       "    </tr>\n",
       "    <tr>\n",
       "      <th>106675</th>\n",
       "      <td>2</td>\n",
       "      <td>2024-11-14 00:00:00</td>\n",
       "      <td>MHEV1001</td>\n",
       "    </tr>\n",
       "    <tr>\n",
       "      <th>106674</th>\n",
       "      <td>2</td>\n",
       "      <td>2024-11-14 00:00:00</td>\n",
       "      <td>MHGL7893</td>\n",
       "    </tr>\n",
       "    <tr>\n",
       "      <th>106692</th>\n",
       "      <td>2</td>\n",
       "      <td>2024-11-14 00:00:00</td>\n",
       "      <td>MHQG5264</td>\n",
       "    </tr>\n",
       "    <tr>\n",
       "      <th>106682</th>\n",
       "      <td>2</td>\n",
       "      <td>2024-11-14 00:00:00</td>\n",
       "      <td>MHBB9719</td>\n",
       "    </tr>\n",
       "    <tr>\n",
       "      <th>106693</th>\n",
       "      <td>2</td>\n",
       "      <td>2024-11-14 00:00:00</td>\n",
       "      <td>MHLX0117</td>\n",
       "    </tr>\n",
       "  </tbody>\n",
       "</table>\n",
       "<p>106694 rows × 3 columns</p>\n",
       "</div>"
      ],
      "text/plain": [
       "        camera_id           timestamp vehicle_no\n",
       "0               1 2024-09-12 05:00:00   MHUN7063\n",
       "21              1 2024-09-12 05:00:00   MHMY1867\n",
       "20              1 2024-09-12 05:00:00   MHZF8417\n",
       "19              1 2024-09-12 05:00:00   MHFU6425\n",
       "18              1 2024-09-12 05:00:00   MHHB4038\n",
       "...           ...                 ...        ...\n",
       "106675          2 2024-11-14 00:00:00   MHEV1001\n",
       "106674          2 2024-11-14 00:00:00   MHGL7893\n",
       "106692          2 2024-11-14 00:00:00   MHQG5264\n",
       "106682          2 2024-11-14 00:00:00   MHBB9719\n",
       "106693          2 2024-11-14 00:00:00   MHLX0117\n",
       "\n",
       "[106694 rows x 3 columns]"
      ]
     },
     "execution_count": 4,
     "metadata": {},
     "output_type": "execute_result"
    }
   ],
   "source": [
    "df['timestamp'] = df['timestamp           '].str.upper().astype('string')\n",
    "df['timestamp'] = pd.to_datetime(df['timestamp'], errors='coerce')\n",
    "df['vehicle_no'] = df['vehicle_no '].str.strip()\n",
    "df = df.drop('vehicle_no ', axis=1)\n",
    "df = df.drop('timestamp           ', axis=1)\n",
    "df = df.sort_values(by='timestamp')\n",
    "df"
   ]
  },
  {
   "cell_type": "markdown",
   "metadata": {},
   "source": [
    "For this part, we removed the NAN values, because we just have to consider the average time spent on each day, so removing ~40 values from a single day which is out of ~800 values per day wont make much difference in the average time spent.\n",
    "\n",
    "and for the values that were occured odd number of time each day, we paired them with the most matching string on each day"
   ]
  },
  {
   "cell_type": "code",
   "execution_count": 5,
   "metadata": {},
   "outputs": [
    {
     "name": "stdout",
     "output_type": "stream",
     "text": [
      "<class 'pandas.core.frame.DataFrame'>\n",
      "Index: 106694 entries, 0 to 106693\n",
      "Data columns (total 3 columns):\n",
      " #   Column      Non-Null Count   Dtype         \n",
      "---  ------      --------------   -----         \n",
      " 0   camera_id   106694 non-null  int64         \n",
      " 1   timestamp   106694 non-null  datetime64[ns]\n",
      " 2   vehicle_no  106694 non-null  object        \n",
      "dtypes: datetime64[ns](1), int64(1), object(1)\n",
      "memory usage: 3.3+ MB\n"
     ]
    }
   ],
   "source": [
    "df['vehicle_no'] = df['vehicle_no'].astype(str)\n",
    "df.info()"
   ]
  },
  {
   "cell_type": "code",
   "execution_count": 6,
   "metadata": {},
   "outputs": [
    {
     "data": {
      "text/html": [
       "<div>\n",
       "<style scoped>\n",
       "    .dataframe tbody tr th:only-of-type {\n",
       "        vertical-align: middle;\n",
       "    }\n",
       "\n",
       "    .dataframe tbody tr th {\n",
       "        vertical-align: top;\n",
       "    }\n",
       "\n",
       "    .dataframe thead th {\n",
       "        text-align: right;\n",
       "    }\n",
       "</style>\n",
       "<table border=\"1\" class=\"dataframe\">\n",
       "  <thead>\n",
       "    <tr style=\"text-align: right;\">\n",
       "      <th></th>\n",
       "      <th>camera_id</th>\n",
       "      <th>timestamp</th>\n",
       "      <th>vehicle_no</th>\n",
       "    </tr>\n",
       "  </thead>\n",
       "  <tbody>\n",
       "    <tr>\n",
       "      <th>0</th>\n",
       "      <td>1</td>\n",
       "      <td>2024-09-12 05:00:00</td>\n",
       "      <td>MHUN7063</td>\n",
       "    </tr>\n",
       "    <tr>\n",
       "      <th>21</th>\n",
       "      <td>1</td>\n",
       "      <td>2024-09-12 05:00:00</td>\n",
       "      <td>MHMY1867</td>\n",
       "    </tr>\n",
       "    <tr>\n",
       "      <th>20</th>\n",
       "      <td>1</td>\n",
       "      <td>2024-09-12 05:00:00</td>\n",
       "      <td>MHZF8417</td>\n",
       "    </tr>\n",
       "    <tr>\n",
       "      <th>19</th>\n",
       "      <td>1</td>\n",
       "      <td>2024-09-12 05:00:00</td>\n",
       "      <td>MHFU6425</td>\n",
       "    </tr>\n",
       "    <tr>\n",
       "      <th>18</th>\n",
       "      <td>1</td>\n",
       "      <td>2024-09-12 05:00:00</td>\n",
       "      <td>MHHB4038</td>\n",
       "    </tr>\n",
       "    <tr>\n",
       "      <th>...</th>\n",
       "      <td>...</td>\n",
       "      <td>...</td>\n",
       "      <td>...</td>\n",
       "    </tr>\n",
       "    <tr>\n",
       "      <th>106675</th>\n",
       "      <td>2</td>\n",
       "      <td>2024-11-14 00:00:00</td>\n",
       "      <td>MHEV1001</td>\n",
       "    </tr>\n",
       "    <tr>\n",
       "      <th>106674</th>\n",
       "      <td>2</td>\n",
       "      <td>2024-11-14 00:00:00</td>\n",
       "      <td>MHGL7893</td>\n",
       "    </tr>\n",
       "    <tr>\n",
       "      <th>106692</th>\n",
       "      <td>2</td>\n",
       "      <td>2024-11-14 00:00:00</td>\n",
       "      <td>MHQG5264</td>\n",
       "    </tr>\n",
       "    <tr>\n",
       "      <th>106682</th>\n",
       "      <td>2</td>\n",
       "      <td>2024-11-14 00:00:00</td>\n",
       "      <td>MHBB9719</td>\n",
       "    </tr>\n",
       "    <tr>\n",
       "      <th>106693</th>\n",
       "      <td>2</td>\n",
       "      <td>2024-11-14 00:00:00</td>\n",
       "      <td>MHLX0117</td>\n",
       "    </tr>\n",
       "  </tbody>\n",
       "</table>\n",
       "<p>106253 rows × 3 columns</p>\n",
       "</div>"
      ],
      "text/plain": [
       "        camera_id           timestamp vehicle_no\n",
       "0               1 2024-09-12 05:00:00   MHUN7063\n",
       "21              1 2024-09-12 05:00:00   MHMY1867\n",
       "20              1 2024-09-12 05:00:00   MHZF8417\n",
       "19              1 2024-09-12 05:00:00   MHFU6425\n",
       "18              1 2024-09-12 05:00:00   MHHB4038\n",
       "...           ...                 ...        ...\n",
       "106675          2 2024-11-14 00:00:00   MHEV1001\n",
       "106674          2 2024-11-14 00:00:00   MHGL7893\n",
       "106692          2 2024-11-14 00:00:00   MHQG5264\n",
       "106682          2 2024-11-14 00:00:00   MHBB9719\n",
       "106693          2 2024-11-14 00:00:00   MHLX0117\n",
       "\n",
       "[106253 rows x 3 columns]"
      ]
     },
     "execution_count": 6,
     "metadata": {},
     "output_type": "execute_result"
    }
   ],
   "source": [
    "no_na_data = df[df['vehicle_no'] != '']\n",
    "entries = no_na_data[no_na_data['camera_id']==1]\n",
    "exits = no_na_data[no_na_data['camera_id']==2]\n",
    "no_na_data"
   ]
  },
  {
   "cell_type": "markdown",
   "metadata": {},
   "source": [
    "#### Pairing the vehicle_no which are present in both entry and exit record"
   ]
  },
  {
   "cell_type": "code",
   "execution_count": 7,
   "metadata": {},
   "outputs": [
    {
     "data": {
      "text/html": [
       "<div>\n",
       "<style scoped>\n",
       "    .dataframe tbody tr th:only-of-type {\n",
       "        vertical-align: middle;\n",
       "    }\n",
       "\n",
       "    .dataframe tbody tr th {\n",
       "        vertical-align: top;\n",
       "    }\n",
       "\n",
       "    .dataframe thead th {\n",
       "        text-align: right;\n",
       "    }\n",
       "</style>\n",
       "<table border=\"1\" class=\"dataframe\">\n",
       "  <thead>\n",
       "    <tr style=\"text-align: right;\">\n",
       "      <th></th>\n",
       "      <th>camera_id_entry</th>\n",
       "      <th>timestamp_entry</th>\n",
       "      <th>vehicle_no</th>\n",
       "      <th>camera_id_exit</th>\n",
       "      <th>timestamp_exit</th>\n",
       "    </tr>\n",
       "  </thead>\n",
       "  <tbody>\n",
       "    <tr>\n",
       "      <th>0</th>\n",
       "      <td>1</td>\n",
       "      <td>2024-09-12 05:00:00</td>\n",
       "      <td>MHUN7063</td>\n",
       "      <td>2</td>\n",
       "      <td>2024-09-12 08:00:00</td>\n",
       "    </tr>\n",
       "    <tr>\n",
       "      <th>1</th>\n",
       "      <td>1</td>\n",
       "      <td>2024-09-12 05:00:00</td>\n",
       "      <td>MHMY1867</td>\n",
       "      <td>2</td>\n",
       "      <td>2024-09-12 09:20:00</td>\n",
       "    </tr>\n",
       "    <tr>\n",
       "      <th>2</th>\n",
       "      <td>1</td>\n",
       "      <td>2024-09-12 05:00:00</td>\n",
       "      <td>MHZF8417</td>\n",
       "      <td>2</td>\n",
       "      <td>2024-09-12 09:20:00</td>\n",
       "    </tr>\n",
       "    <tr>\n",
       "      <th>3</th>\n",
       "      <td>1</td>\n",
       "      <td>2024-09-12 05:00:00</td>\n",
       "      <td>MHFU6425</td>\n",
       "      <td>2</td>\n",
       "      <td>2024-09-12 09:40:00</td>\n",
       "    </tr>\n",
       "    <tr>\n",
       "      <th>4</th>\n",
       "      <td>1</td>\n",
       "      <td>2024-09-12 05:00:00</td>\n",
       "      <td>MHHB4038</td>\n",
       "      <td>2</td>\n",
       "      <td>2024-09-12 09:20:00</td>\n",
       "    </tr>\n",
       "    <tr>\n",
       "      <th>...</th>\n",
       "      <td>...</td>\n",
       "      <td>...</td>\n",
       "      <td>...</td>\n",
       "      <td>...</td>\n",
       "      <td>...</td>\n",
       "    </tr>\n",
       "    <tr>\n",
       "      <th>52755</th>\n",
       "      <td>1</td>\n",
       "      <td>2024-11-13 20:00:00</td>\n",
       "      <td>MHPN3450</td>\n",
       "      <td>2</td>\n",
       "      <td>2024-11-14 00:00:00</td>\n",
       "    </tr>\n",
       "    <tr>\n",
       "      <th>52756</th>\n",
       "      <td>1</td>\n",
       "      <td>2024-11-13 20:00:00</td>\n",
       "      <td>MHBB9719</td>\n",
       "      <td>2</td>\n",
       "      <td>2024-11-14 00:00:00</td>\n",
       "    </tr>\n",
       "    <tr>\n",
       "      <th>52757</th>\n",
       "      <td>1</td>\n",
       "      <td>2024-11-13 20:00:00</td>\n",
       "      <td>MHQJ4009</td>\n",
       "      <td>2</td>\n",
       "      <td>2024-11-14 00:00:00</td>\n",
       "    </tr>\n",
       "    <tr>\n",
       "      <th>52758</th>\n",
       "      <td>1</td>\n",
       "      <td>2024-11-13 20:00:00</td>\n",
       "      <td>MHDF3718</td>\n",
       "      <td>2</td>\n",
       "      <td>2024-11-14 00:00:00</td>\n",
       "    </tr>\n",
       "    <tr>\n",
       "      <th>52759</th>\n",
       "      <td>1</td>\n",
       "      <td>2024-11-13 20:00:00</td>\n",
       "      <td>MHVY8418</td>\n",
       "      <td>2</td>\n",
       "      <td>2024-11-14 00:00:00</td>\n",
       "    </tr>\n",
       "  </tbody>\n",
       "</table>\n",
       "<p>52578 rows × 5 columns</p>\n",
       "</div>"
      ],
      "text/plain": [
       "       camera_id_entry     timestamp_entry vehicle_no  camera_id_exit  \\\n",
       "0                    1 2024-09-12 05:00:00   MHUN7063               2   \n",
       "1                    1 2024-09-12 05:00:00   MHMY1867               2   \n",
       "2                    1 2024-09-12 05:00:00   MHZF8417               2   \n",
       "3                    1 2024-09-12 05:00:00   MHFU6425               2   \n",
       "4                    1 2024-09-12 05:00:00   MHHB4038               2   \n",
       "...                ...                 ...        ...             ...   \n",
       "52755                1 2024-11-13 20:00:00   MHPN3450               2   \n",
       "52756                1 2024-11-13 20:00:00   MHBB9719               2   \n",
       "52757                1 2024-11-13 20:00:00   MHQJ4009               2   \n",
       "52758                1 2024-11-13 20:00:00   MHDF3718               2   \n",
       "52759                1 2024-11-13 20:00:00   MHVY8418               2   \n",
       "\n",
       "           timestamp_exit  \n",
       "0     2024-09-12 08:00:00  \n",
       "1     2024-09-12 09:20:00  \n",
       "2     2024-09-12 09:20:00  \n",
       "3     2024-09-12 09:40:00  \n",
       "4     2024-09-12 09:20:00  \n",
       "...                   ...  \n",
       "52755 2024-11-14 00:00:00  \n",
       "52756 2024-11-14 00:00:00  \n",
       "52757 2024-11-14 00:00:00  \n",
       "52758 2024-11-14 00:00:00  \n",
       "52759 2024-11-14 00:00:00  \n",
       "\n",
       "[52578 rows x 5 columns]"
      ]
     },
     "execution_count": 7,
     "metadata": {},
     "output_type": "execute_result"
    }
   ],
   "source": [
    "paired_data = pd.merge(entries, exits, on='vehicle_no', suffixes=('_entry', '_exit'))\n",
    "paired_data = paired_data[paired_data['timestamp_entry'] < paired_data['timestamp_exit']]\n",
    "paired_data"
   ]
  },
  {
   "cell_type": "markdown",
   "metadata": {},
   "source": [
    "#### Working on the records which are only present in only 1 of them"
   ]
  },
  {
   "cell_type": "code",
   "execution_count": 8,
   "metadata": {},
   "outputs": [],
   "source": [
    "unmatched_entries = entries[~entries['vehicle_no'].isin(paired_data['vehicle_no'])]\n",
    "unmatched_exits = exits[~exits['vehicle_no'].isin(paired_data['vehicle_no'])]"
   ]
  },
  {
   "cell_type": "code",
   "execution_count": 9,
   "metadata": {},
   "outputs": [],
   "source": [
    "unmatched_entries['date'] = unmatched_entries['timestamp'].dt.date\n",
    "unmatched_exits['date'] = unmatched_exits['timestamp'].dt.date"
   ]
  },
  {
   "cell_type": "markdown",
   "metadata": {},
   "source": [
    "#### Iterating over each record in unmatched enteries to find the most similar unmatched exit on the same day. If similarity score > 0.75 then we are pairing them up.\n"
   ]
  },
  {
   "cell_type": "code",
   "execution_count": 10,
   "metadata": {},
   "outputs": [
    {
     "data": {
      "text/html": [
       "<div>\n",
       "<style scoped>\n",
       "    .dataframe tbody tr th:only-of-type {\n",
       "        vertical-align: middle;\n",
       "    }\n",
       "\n",
       "    .dataframe tbody tr th {\n",
       "        vertical-align: top;\n",
       "    }\n",
       "\n",
       "    .dataframe thead th {\n",
       "        text-align: right;\n",
       "    }\n",
       "</style>\n",
       "<table border=\"1\" class=\"dataframe\">\n",
       "  <thead>\n",
       "    <tr style=\"text-align: right;\">\n",
       "      <th></th>\n",
       "      <th>vehicle_no</th>\n",
       "      <th>timestamp_entry</th>\n",
       "      <th>timestamp_exit</th>\n",
       "    </tr>\n",
       "  </thead>\n",
       "  <tbody>\n",
       "    <tr>\n",
       "      <th>0</th>\n",
       "      <td>MHHA0518</td>\n",
       "      <td>2024-09-12 05:00:00</td>\n",
       "      <td>2024-09-12 08:40:00</td>\n",
       "    </tr>\n",
       "    <tr>\n",
       "      <th>1</th>\n",
       "      <td>MHFT7338</td>\n",
       "      <td>2024-09-12 06:00:00</td>\n",
       "      <td>2024-09-12 10:40:00</td>\n",
       "    </tr>\n",
       "    <tr>\n",
       "      <th>2</th>\n",
       "      <td>MHPK8268</td>\n",
       "      <td>2024-09-12 09:00:00</td>\n",
       "      <td>2024-09-12 14:00:00</td>\n",
       "    </tr>\n",
       "    <tr>\n",
       "      <th>3</th>\n",
       "      <td>MHWY3805</td>\n",
       "      <td>2024-09-12 11:00:00</td>\n",
       "      <td>2024-09-12 14:20:00</td>\n",
       "    </tr>\n",
       "    <tr>\n",
       "      <th>4</th>\n",
       "      <td>MHIH5246</td>\n",
       "      <td>2024-09-12 11:40:00</td>\n",
       "      <td>2024-09-12 15:20:00</td>\n",
       "    </tr>\n",
       "    <tr>\n",
       "      <th>...</th>\n",
       "      <td>...</td>\n",
       "      <td>...</td>\n",
       "      <td>...</td>\n",
       "    </tr>\n",
       "    <tr>\n",
       "      <th>495</th>\n",
       "      <td>MHNF6986</td>\n",
       "      <td>2024-11-13 10:00:00</td>\n",
       "      <td>2024-11-13 14:40:00</td>\n",
       "    </tr>\n",
       "    <tr>\n",
       "      <th>496</th>\n",
       "      <td>MHIO9771</td>\n",
       "      <td>2024-11-13 10:20:00</td>\n",
       "      <td>2024-11-13 16:00:00</td>\n",
       "    </tr>\n",
       "    <tr>\n",
       "      <th>497</th>\n",
       "      <td>MHZS7809</td>\n",
       "      <td>2024-11-13 10:40:00</td>\n",
       "      <td>2024-11-13 17:00:00</td>\n",
       "    </tr>\n",
       "    <tr>\n",
       "      <th>498</th>\n",
       "      <td>MHLE5669</td>\n",
       "      <td>2024-11-13 17:00:00</td>\n",
       "      <td>2024-11-13 22:40:00</td>\n",
       "    </tr>\n",
       "    <tr>\n",
       "      <th>499</th>\n",
       "      <td>MHDG8355</td>\n",
       "      <td>2024-11-13 18:40:00</td>\n",
       "      <td>2024-11-13 22:40:00</td>\n",
       "    </tr>\n",
       "  </tbody>\n",
       "</table>\n",
       "<p>500 rows × 3 columns</p>\n",
       "</div>"
      ],
      "text/plain": [
       "    vehicle_no     timestamp_entry      timestamp_exit\n",
       "0     MHHA0518 2024-09-12 05:00:00 2024-09-12 08:40:00\n",
       "1     MHFT7338 2024-09-12 06:00:00 2024-09-12 10:40:00\n",
       "2     MHPK8268 2024-09-12 09:00:00 2024-09-12 14:00:00\n",
       "3     MHWY3805 2024-09-12 11:00:00 2024-09-12 14:20:00\n",
       "4     MHIH5246 2024-09-12 11:40:00 2024-09-12 15:20:00\n",
       "..         ...                 ...                 ...\n",
       "495   MHNF6986 2024-11-13 10:00:00 2024-11-13 14:40:00\n",
       "496   MHIO9771 2024-11-13 10:20:00 2024-11-13 16:00:00\n",
       "497   MHZS7809 2024-11-13 10:40:00 2024-11-13 17:00:00\n",
       "498   MHLE5669 2024-11-13 17:00:00 2024-11-13 22:40:00\n",
       "499   MHDG8355 2024-11-13 18:40:00 2024-11-13 22:40:00\n",
       "\n",
       "[500 rows x 3 columns]"
      ]
     },
     "execution_count": 10,
     "metadata": {},
     "output_type": "execute_result"
    }
   ],
   "source": [
    "from difflib import SequenceMatcher\n",
    "\n",
    "orphan_pairs = []\n",
    "for entry_idx, entry_row in unmatched_entries.iterrows():\n",
    "    entry_date = entry_row['timestamp'].date()\n",
    "    same_day_exits = unmatched_exits[unmatched_exits['timestamp'].dt.date == entry_date]\n",
    "\n",
    "    if not same_day_exits.empty:\n",
    "        \n",
    "        similarities = same_day_exits['vehicle_no'].apply(lambda x: SequenceMatcher(None, entry_row['vehicle_no'], x).ratio())\n",
    "        most_similar_exit_idx = similarities.idxmax()  \n",
    "        \n",
    "        if similarities[most_similar_exit_idx] > 0.75:\n",
    "            exit_row = same_day_exits.loc[most_similar_exit_idx]\n",
    "            if entry_row['timestamp'] < exit_row['timestamp']:  \n",
    "                orphan_pairs.append({\n",
    "                    'vehicle_no': entry_row['vehicle_no'],\n",
    "                    'timestamp_entry': entry_row['timestamp'],\n",
    "                    'timestamp_exit': exit_row['timestamp']\n",
    "                })\n",
    "            unmatched_exits = unmatched_exits.drop(most_similar_exit_idx)  \n",
    "\n",
    "\n",
    "orphan_pairs_df = pd.DataFrame(orphan_pairs)\n",
    "orphan_pairs_df"
   ]
  },
  {
   "cell_type": "markdown",
   "metadata": {},
   "source": [
    "#### Concatinating both paired dataset and the unpaired data set which we constructed. And sorting them again"
   ]
  },
  {
   "cell_type": "code",
   "execution_count": 11,
   "metadata": {},
   "outputs": [
    {
     "data": {
      "text/html": [
       "<div>\n",
       "<style scoped>\n",
       "    .dataframe tbody tr th:only-of-type {\n",
       "        vertical-align: middle;\n",
       "    }\n",
       "\n",
       "    .dataframe tbody tr th {\n",
       "        vertical-align: top;\n",
       "    }\n",
       "\n",
       "    .dataframe thead th {\n",
       "        text-align: right;\n",
       "    }\n",
       "</style>\n",
       "<table border=\"1\" class=\"dataframe\">\n",
       "  <thead>\n",
       "    <tr style=\"text-align: right;\">\n",
       "      <th></th>\n",
       "      <th>vehicle_no</th>\n",
       "      <th>timestamp_entry</th>\n",
       "      <th>timestamp_exit</th>\n",
       "    </tr>\n",
       "  </thead>\n",
       "  <tbody>\n",
       "    <tr>\n",
       "      <th>0</th>\n",
       "      <td>MHUN7063</td>\n",
       "      <td>2024-09-12 05:00:00</td>\n",
       "      <td>2024-09-12 08:00:00</td>\n",
       "    </tr>\n",
       "    <tr>\n",
       "      <th>20</th>\n",
       "      <td>MHGS9163</td>\n",
       "      <td>2024-09-12 05:00:00</td>\n",
       "      <td>2024-09-12 08:00:00</td>\n",
       "    </tr>\n",
       "    <tr>\n",
       "      <th>19</th>\n",
       "      <td>MHZI0593</td>\n",
       "      <td>2024-09-12 05:00:00</td>\n",
       "      <td>2024-09-12 08:20:00</td>\n",
       "    </tr>\n",
       "    <tr>\n",
       "      <th>18</th>\n",
       "      <td>MHYN8096</td>\n",
       "      <td>2024-09-12 05:00:00</td>\n",
       "      <td>2024-09-12 08:40:00</td>\n",
       "    </tr>\n",
       "    <tr>\n",
       "      <th>17</th>\n",
       "      <td>MHJU1350</td>\n",
       "      <td>2024-09-12 05:00:00</td>\n",
       "      <td>2024-09-12 09:00:00</td>\n",
       "    </tr>\n",
       "    <tr>\n",
       "      <th>...</th>\n",
       "      <td>...</td>\n",
       "      <td>...</td>\n",
       "      <td>...</td>\n",
       "    </tr>\n",
       "    <tr>\n",
       "      <th>52573</th>\n",
       "      <td>MHPN3450</td>\n",
       "      <td>2024-11-13 20:00:00</td>\n",
       "      <td>2024-11-14 00:00:00</td>\n",
       "    </tr>\n",
       "    <tr>\n",
       "      <th>52574</th>\n",
       "      <td>MHBB9719</td>\n",
       "      <td>2024-11-13 20:00:00</td>\n",
       "      <td>2024-11-14 00:00:00</td>\n",
       "    </tr>\n",
       "    <tr>\n",
       "      <th>52575</th>\n",
       "      <td>MHQJ4009</td>\n",
       "      <td>2024-11-13 20:00:00</td>\n",
       "      <td>2024-11-14 00:00:00</td>\n",
       "    </tr>\n",
       "    <tr>\n",
       "      <th>52576</th>\n",
       "      <td>MHDF3718</td>\n",
       "      <td>2024-11-13 20:00:00</td>\n",
       "      <td>2024-11-14 00:00:00</td>\n",
       "    </tr>\n",
       "    <tr>\n",
       "      <th>52577</th>\n",
       "      <td>MHVY8418</td>\n",
       "      <td>2024-11-13 20:00:00</td>\n",
       "      <td>2024-11-14 00:00:00</td>\n",
       "    </tr>\n",
       "  </tbody>\n",
       "</table>\n",
       "<p>53078 rows × 3 columns</p>\n",
       "</div>"
      ],
      "text/plain": [
       "      vehicle_no     timestamp_entry      timestamp_exit\n",
       "0       MHUN7063 2024-09-12 05:00:00 2024-09-12 08:00:00\n",
       "20      MHGS9163 2024-09-12 05:00:00 2024-09-12 08:00:00\n",
       "19      MHZI0593 2024-09-12 05:00:00 2024-09-12 08:20:00\n",
       "18      MHYN8096 2024-09-12 05:00:00 2024-09-12 08:40:00\n",
       "17      MHJU1350 2024-09-12 05:00:00 2024-09-12 09:00:00\n",
       "...          ...                 ...                 ...\n",
       "52573   MHPN3450 2024-11-13 20:00:00 2024-11-14 00:00:00\n",
       "52574   MHBB9719 2024-11-13 20:00:00 2024-11-14 00:00:00\n",
       "52575   MHQJ4009 2024-11-13 20:00:00 2024-11-14 00:00:00\n",
       "52576   MHDF3718 2024-11-13 20:00:00 2024-11-14 00:00:00\n",
       "52577   MHVY8418 2024-11-13 20:00:00 2024-11-14 00:00:00\n",
       "\n",
       "[53078 rows x 3 columns]"
      ]
     },
     "execution_count": 11,
     "metadata": {},
     "output_type": "execute_result"
    }
   ],
   "source": [
    "final_data = pd.concat([paired_data[['vehicle_no', 'timestamp_entry', 'timestamp_exit']], orphan_pairs_df], ignore_index=True)\n",
    "final_data = final_data.sort_values(by='timestamp_entry')\n",
    "final_data"
   ]
  },
  {
   "cell_type": "code",
   "execution_count": 12,
   "metadata": {},
   "outputs": [
    {
     "name": "stdout",
     "output_type": "stream",
     "text": [
      "<class 'pandas.core.frame.DataFrame'>\n",
      "Index: 53078 entries, 0 to 52577\n",
      "Data columns (total 3 columns):\n",
      " #   Column           Non-Null Count  Dtype         \n",
      "---  ------           --------------  -----         \n",
      " 0   vehicle_no       53078 non-null  object        \n",
      " 1   timestamp_entry  53078 non-null  datetime64[ns]\n",
      " 2   timestamp_exit   53078 non-null  datetime64[ns]\n",
      "dtypes: datetime64[ns](2), object(1)\n",
      "memory usage: 1.6+ MB\n"
     ]
    }
   ],
   "source": [
    "df = final_data\n",
    "df.info()"
   ]
  },
  {
   "cell_type": "markdown",
   "metadata": {},
   "source": [
    "#### Duration is the time spent in the parking lot"
   ]
  },
  {
   "cell_type": "code",
   "execution_count": 13,
   "metadata": {},
   "outputs": [
    {
     "data": {
      "text/html": [
       "<div>\n",
       "<style scoped>\n",
       "    .dataframe tbody tr th:only-of-type {\n",
       "        vertical-align: middle;\n",
       "    }\n",
       "\n",
       "    .dataframe tbody tr th {\n",
       "        vertical-align: top;\n",
       "    }\n",
       "\n",
       "    .dataframe thead th {\n",
       "        text-align: right;\n",
       "    }\n",
       "</style>\n",
       "<table border=\"1\" class=\"dataframe\">\n",
       "  <thead>\n",
       "    <tr style=\"text-align: right;\">\n",
       "      <th></th>\n",
       "      <th>vehicle_no</th>\n",
       "      <th>timestamp_entry</th>\n",
       "      <th>timestamp_exit</th>\n",
       "      <th>duration</th>\n",
       "    </tr>\n",
       "  </thead>\n",
       "  <tbody>\n",
       "    <tr>\n",
       "      <th>0</th>\n",
       "      <td>MHUN7063</td>\n",
       "      <td>2024-09-12 05:00:00</td>\n",
       "      <td>2024-09-12 08:00:00</td>\n",
       "      <td>10800.0</td>\n",
       "    </tr>\n",
       "    <tr>\n",
       "      <th>20</th>\n",
       "      <td>MHGS9163</td>\n",
       "      <td>2024-09-12 05:00:00</td>\n",
       "      <td>2024-09-12 08:00:00</td>\n",
       "      <td>10800.0</td>\n",
       "    </tr>\n",
       "    <tr>\n",
       "      <th>19</th>\n",
       "      <td>MHZI0593</td>\n",
       "      <td>2024-09-12 05:00:00</td>\n",
       "      <td>2024-09-12 08:20:00</td>\n",
       "      <td>12000.0</td>\n",
       "    </tr>\n",
       "    <tr>\n",
       "      <th>18</th>\n",
       "      <td>MHYN8096</td>\n",
       "      <td>2024-09-12 05:00:00</td>\n",
       "      <td>2024-09-12 08:40:00</td>\n",
       "      <td>13200.0</td>\n",
       "    </tr>\n",
       "    <tr>\n",
       "      <th>17</th>\n",
       "      <td>MHJU1350</td>\n",
       "      <td>2024-09-12 05:00:00</td>\n",
       "      <td>2024-09-12 09:00:00</td>\n",
       "      <td>14400.0</td>\n",
       "    </tr>\n",
       "    <tr>\n",
       "      <th>...</th>\n",
       "      <td>...</td>\n",
       "      <td>...</td>\n",
       "      <td>...</td>\n",
       "      <td>...</td>\n",
       "    </tr>\n",
       "    <tr>\n",
       "      <th>52573</th>\n",
       "      <td>MHPN3450</td>\n",
       "      <td>2024-11-13 20:00:00</td>\n",
       "      <td>2024-11-14 00:00:00</td>\n",
       "      <td>14400.0</td>\n",
       "    </tr>\n",
       "    <tr>\n",
       "      <th>52574</th>\n",
       "      <td>MHBB9719</td>\n",
       "      <td>2024-11-13 20:00:00</td>\n",
       "      <td>2024-11-14 00:00:00</td>\n",
       "      <td>14400.0</td>\n",
       "    </tr>\n",
       "    <tr>\n",
       "      <th>52575</th>\n",
       "      <td>MHQJ4009</td>\n",
       "      <td>2024-11-13 20:00:00</td>\n",
       "      <td>2024-11-14 00:00:00</td>\n",
       "      <td>14400.0</td>\n",
       "    </tr>\n",
       "    <tr>\n",
       "      <th>52576</th>\n",
       "      <td>MHDF3718</td>\n",
       "      <td>2024-11-13 20:00:00</td>\n",
       "      <td>2024-11-14 00:00:00</td>\n",
       "      <td>14400.0</td>\n",
       "    </tr>\n",
       "    <tr>\n",
       "      <th>52577</th>\n",
       "      <td>MHVY8418</td>\n",
       "      <td>2024-11-13 20:00:00</td>\n",
       "      <td>2024-11-14 00:00:00</td>\n",
       "      <td>14400.0</td>\n",
       "    </tr>\n",
       "  </tbody>\n",
       "</table>\n",
       "<p>53078 rows × 4 columns</p>\n",
       "</div>"
      ],
      "text/plain": [
       "      vehicle_no     timestamp_entry      timestamp_exit  duration\n",
       "0       MHUN7063 2024-09-12 05:00:00 2024-09-12 08:00:00   10800.0\n",
       "20      MHGS9163 2024-09-12 05:00:00 2024-09-12 08:00:00   10800.0\n",
       "19      MHZI0593 2024-09-12 05:00:00 2024-09-12 08:20:00   12000.0\n",
       "18      MHYN8096 2024-09-12 05:00:00 2024-09-12 08:40:00   13200.0\n",
       "17      MHJU1350 2024-09-12 05:00:00 2024-09-12 09:00:00   14400.0\n",
       "...          ...                 ...                 ...       ...\n",
       "52573   MHPN3450 2024-11-13 20:00:00 2024-11-14 00:00:00   14400.0\n",
       "52574   MHBB9719 2024-11-13 20:00:00 2024-11-14 00:00:00   14400.0\n",
       "52575   MHQJ4009 2024-11-13 20:00:00 2024-11-14 00:00:00   14400.0\n",
       "52576   MHDF3718 2024-11-13 20:00:00 2024-11-14 00:00:00   14400.0\n",
       "52577   MHVY8418 2024-11-13 20:00:00 2024-11-14 00:00:00   14400.0\n",
       "\n",
       "[53078 rows x 4 columns]"
      ]
     },
     "execution_count": 13,
     "metadata": {},
     "output_type": "execute_result"
    }
   ],
   "source": [
    "df['duration'] = (df['timestamp_exit'] - df['timestamp_entry']).dt.total_seconds()\n",
    "df"
   ]
  },
  {
   "cell_type": "markdown",
   "metadata": {},
   "source": [
    "#### Grouping by each day"
   ]
  },
  {
   "cell_type": "code",
   "execution_count": 14,
   "metadata": {},
   "outputs": [
    {
     "data": {
      "text/plain": [
       "date\n",
       "2024-09-12    25392.808989\n",
       "2024-09-13    61245.421245\n",
       "2024-09-14    48343.843498\n",
       "2024-09-15    56724.653740\n",
       "2024-09-16    50038.588235\n",
       "                  ...     \n",
       "2024-11-09    18565.034965\n",
       "2024-11-10    17167.372881\n",
       "2024-11-11    16836.231884\n",
       "2024-11-12    17394.044665\n",
       "2024-11-13    18739.052497\n",
       "Name: duration, Length: 63, dtype: float64"
      ]
     },
     "execution_count": 14,
     "metadata": {},
     "output_type": "execute_result"
    }
   ],
   "source": [
    "\n",
    "df['date'] = df['timestamp_entry'].dt.date\n",
    "df_days = df.groupby('date')['duration'].mean()\n",
    "df_days"
   ]
  },
  {
   "cell_type": "markdown",
   "metadata": {},
   "source": [
    "#### Plotting the data "
   ]
  },
  {
   "cell_type": "code",
   "execution_count": 15,
   "metadata": {},
   "outputs": [
    {
     "data": {
      "image/png": "[encoded data removed]",
      "text/plain": [
       "<Figure size 1000x600 with 1 Axes>"
      ]
     },
     "metadata": {},
     "output_type": "display_data"
    }
   ],
   "source": [
    "\n",
    "plt.figure(figsize=(10, 6))\n",
    "plt.plot(df_days.index, df_days.values)\n",
    "plt.xlabel('Date')\n",
    "plt.ylabel('Average Duration')\n",
    "plt.title('Day vs Average Duration')\n",
    "plt.show()\n"
   ]
  },
  {
   "cell_type": "markdown",
   "metadata": {},
   "source": [
    "### Auto correlation plot"
   ]
  },
  {
   "cell_type": "code",
   "execution_count": 8,
   "metadata": {},
   "outputs": [
    {
     "data": {
      "text/plain": [
       "<Axes: xlabel='Lag', ylabel='Autocorrelation'>"
      ]
     },
     "execution_count": 8,
     "metadata": {},
     "output_type": "execute_result"
    },
    {
     "data": {
      "image/png": "[encoded data removed]",
      "text/plain": [
       "<Figure size 640x480 with 1 Axes>"
      ]
     },
     "metadata": {},
     "output_type": "display_data"
    }
   ],
   "source": [
    "from pandas.plotting import autocorrelation_plot\n",
    "\n",
    "autocorrelation_plot(df_days)"
   ]
  },
  {
   "cell_type": "markdown",
   "metadata": {},
   "source": [
    "### Scaling the data"
   ]
  },
  {
   "cell_type": "code",
   "execution_count": 16,
   "metadata": {},
   "outputs": [
    {
     "data": {
      "text/html": [
       "<div>\n",
       "<style scoped>\n",
       "    .dataframe tbody tr th:only-of-type {\n",
       "        vertical-align: middle;\n",
       "    }\n",
       "\n",
       "    .dataframe tbody tr th {\n",
       "        vertical-align: top;\n",
       "    }\n",
       "\n",
       "    .dataframe thead th {\n",
       "        text-align: right;\n",
       "    }\n",
       "</style>\n",
       "<table border=\"1\" class=\"dataframe\">\n",
       "  <thead>\n",
       "    <tr style=\"text-align: right;\">\n",
       "      <th></th>\n",
       "      <th>avg_duration</th>\n",
       "    </tr>\n",
       "    <tr>\n",
       "      <th>date</th>\n",
       "      <th></th>\n",
       "    </tr>\n",
       "  </thead>\n",
       "  <tbody>\n",
       "    <tr>\n",
       "      <th>2024-09-12</th>\n",
       "      <td>0.225978</td>\n",
       "    </tr>\n",
       "    <tr>\n",
       "      <th>2024-09-13</th>\n",
       "      <td>1.000000</td>\n",
       "    </tr>\n",
       "    <tr>\n",
       "      <th>2024-09-14</th>\n",
       "      <td>0.721468</td>\n",
       "    </tr>\n",
       "    <tr>\n",
       "      <th>2024-09-15</th>\n",
       "      <td>0.902401</td>\n",
       "    </tr>\n",
       "    <tr>\n",
       "      <th>2024-09-16</th>\n",
       "      <td>0.758056</td>\n",
       "    </tr>\n",
       "    <tr>\n",
       "      <th>...</th>\n",
       "      <td>...</td>\n",
       "    </tr>\n",
       "    <tr>\n",
       "      <th>2024-11-09</th>\n",
       "      <td>0.078574</td>\n",
       "    </tr>\n",
       "    <tr>\n",
       "      <th>2024-11-10</th>\n",
       "      <td>0.048399</td>\n",
       "    </tr>\n",
       "    <tr>\n",
       "      <th>2024-11-11</th>\n",
       "      <td>0.041250</td>\n",
       "    </tr>\n",
       "    <tr>\n",
       "      <th>2024-11-12</th>\n",
       "      <td>0.053293</td>\n",
       "    </tr>\n",
       "    <tr>\n",
       "      <th>2024-11-13</th>\n",
       "      <td>0.082330</td>\n",
       "    </tr>\n",
       "  </tbody>\n",
       "</table>\n",
       "<p>63 rows × 1 columns</p>\n",
       "</div>"
      ],
      "text/plain": [
       "            avg_duration\n",
       "date                    \n",
       "2024-09-12      0.225978\n",
       "2024-09-13      1.000000\n",
       "2024-09-14      0.721468\n",
       "2024-09-15      0.902401\n",
       "2024-09-16      0.758056\n",
       "...                  ...\n",
       "2024-11-09      0.078574\n",
       "2024-11-10      0.048399\n",
       "2024-11-11      0.041250\n",
       "2024-11-12      0.053293\n",
       "2024-11-13      0.082330\n",
       "\n",
       "[63 rows x 1 columns]"
      ]
     },
     "execution_count": 16,
     "metadata": {},
     "output_type": "execute_result"
    }
   ],
   "source": [
    "from sklearn.preprocessing import MinMaxScaler\n",
    "from sklearn.metrics import mean_absolute_error\n",
    "\n",
    "scaler = MinMaxScaler()\n",
    "scaled_values = scaler.fit_transform(df_days.values.reshape(-1, 1))\n",
    "scaled_data = pd.DataFrame(scaled_values, columns=['avg_duration'])\n",
    "scaled_data.index = df_days.index\n",
    "scaled_data\n"
   ]
  },
  {
   "cell_type": "markdown",
   "metadata": {},
   "source": [
    "From the autocorrelation plot, we trained the model on the following parameters\n",
    "\n",
    "- (2,1,1)\n",
    "- (1,1,2)\n",
    "- (1,1,1)"
   ]
  },
  {
   "cell_type": "code",
   "execution_count": 17,
   "metadata": {},
   "outputs": [
    {
     "name": "stdout",
     "output_type": "stream",
     "text": [
      "0.04137481725965473\n",
      "0.06479427644012847\n",
      "0.04262635734239042\n"
     ]
    }
   ],
   "source": [
    "from sklearn.metrics import mean_absolute_error\n",
    "import statsmodels.api as sm\n",
    "\n",
    "import warnings\n",
    "from statsmodels.tools.sm_exceptions import ConvergenceWarning\n",
    "warnings.simplefilter('ignore', ConvergenceWarning)\n",
    "\n",
    "X = scaled_data.values\n",
    "size = int(len(X) * 0.7)\n",
    "train, test  = X[0:size], X[size:len(X)]\n",
    "\n",
    "history = [x for x in train]\n",
    "predictions1 = list()\n",
    "for t in range(len(test)):\n",
    "    model = sm.tsa.arima.ARIMA(history, order=(2,1,1))\n",
    "    model_fit = model.fit()\n",
    "    output = model_fit.forecast()\n",
    "    temp  = output[0]\n",
    "    predictions1.append(temp)\n",
    "    obs = test[t]\n",
    "    history.append(obs)\n",
    "print(mean_absolute_error(test, predictions1))\n",
    "\n",
    "history = [x for x in train]\n",
    "predictions2 = list()\n",
    "for t in range(len(test)):\n",
    "    model = sm.tsa.arima.ARIMA(history, order=(1,1,2))\n",
    "    model_fit = model.fit()\n",
    "    output = model_fit.forecast()\n",
    "    temp  = output[0]\n",
    "    predictions2.append(temp)\n",
    "    obs = test[t]\n",
    "    history.append(obs)\n",
    "print(mean_absolute_error(test, predictions2))\n",
    "\n",
    "history = [x for x in train]\n",
    "predictions3 = list()\n",
    "for t in range(len(test)):\n",
    "    model = sm.tsa.arima.ARIMA(history, order=(1,1,1))\n",
    "    model_fit = model.fit()\n",
    "    output = model_fit.forecast()\n",
    "    temp  = output[0]\n",
    "    predictions3.append(temp)\n",
    "    obs = test[t]\n",
    "    history.append(obs)\n",
    "print(mean_absolute_error(test, predictions3))\n",
    "\n"
   ]
  },
  {
   "cell_type": "markdown",
   "metadata": {},
   "source": [
    "### Unscaling the predictions"
   ]
  },
  {
   "cell_type": "code",
   "execution_count": 21,
   "metadata": {},
   "outputs": [],
   "source": [
    "unscaled_predictions = scaler.inverse_transform(np.array(predictions1).reshape(-1, 1))\n",
    "unscaled_test = scaler.inverse_transform(test)\n",
    "unscaled_train = scaler.inverse_transform(train)\n"
   ]
  },
  {
   "cell_type": "markdown",
   "metadata": {},
   "source": [
    "### Plot between predictions and actual data"
   ]
  },
  {
   "cell_type": "code",
   "execution_count": 19,
   "metadata": {},
   "outputs": [
    {
     "data": {
      "image/png": "[encoded data removed]",
      "text/plain": [
       "<Figure size 1000x600 with 1 Axes>"
      ]
     },
     "metadata": {},
     "output_type": "display_data"
    }
   ],
   "source": [
    "plt.figure(figsize=(10, 6))\n",
    "plt.plot(unscaled_predictions, label='Predictions')\n",
    "plt.plot(unscaled_test, label='Actual')\n",
    "plt.grid(True)\n",
    "plt.legend()\n",
    "plt.show()"
   ]
  },
  {
   "cell_type": "code",
   "execution_count": 20,
   "metadata": {},
   "outputs": [],
   "source": [
    "def MASE(y_true, y_pred, y_train):\n",
    "    mae = mean_absolute_error(y_true, y_pred)\n",
    "    naive_forecast = np.roll(y_train, 1)[1:]  \n",
    "    naive_mae = mean_absolute_error(y_train[1:], naive_forecast)\n",
    "    mase = mae / naive_mae\n",
    "    return mase"
   ]
  },
  {
   "cell_type": "code",
   "execution_count": 23,
   "metadata": {},
   "outputs": [
    {
     "name": "stdout",
     "output_type": "stream",
     "text": [
      "MAPE:  9.81429557710239\n",
      "MASE:  0.26311286911247267\n"
     ]
    }
   ],
   "source": [
    "from sklearn.metrics import mean_absolute_percentage_error\n",
    "print(\"MAPE: \", mean_absolute_percentage_error(unscaled_test, unscaled_predictions)*100)\n",
    "print(\"MASE: \", MASE(unscaled_test.reshape(1, -1)[0], unscaled_predictions.reshape(1, -1)[0], unscaled_train.reshape(-1,1)))\n"
   ]
  },
  {
   "cell_type": "code",
   "execution_count": null,
   "metadata": {},
   "outputs": [],
   "source": []
  }
 ],
 "metadata": {
  "kernelspec": {
   "display_name": "Python 3 (ipykernel)",
   "language": "python",
   "name": "python3"
  },
  "language_info": {
   "codemirror_mode": {
    "name": "ipython",
    "version": 3
   },
   "file_extension": ".py",
   "mimetype": "text/x-python",
   "name": "python",
   "nbconvert_exporter": "python",
   "pygments_lexer": "ipython3",
   "version": "3.10.12"
  }
 },
 "nbformat": 4,
 "nbformat_minor": 2
}
