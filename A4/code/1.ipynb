{
 "cells": [
  {
   "cell_type": "markdown",
   "metadata": {},
   "source": [
    "# Question 1\n"
   ]
  },
  {
   "cell_type": "code",
   "execution_count": 129,
   "metadata": {},
   "outputs": [],
   "source": [
    "import pandas as pd\n",
    "from datetime import datetime, timedelta\n",
    "from statsmodels.tsa.arima.model import ARIMA\n",
    "from statsmodels.tsa.holtwinters import ExponentialSmoothing\n",
    "from sklearn.metrics import mean_absolute_error\n",
    "import re\n",
    "\n",
    "parkingData = pd.read_csv('parkingLot.csv')"
   ]
  },
  {
   "cell_type": "markdown",
   "metadata": {},
   "source": [
    "Finding irregularities in timestamps"
   ]
  },
  {
   "cell_type": "code",
   "execution_count": 140,
   "metadata": {},
   "outputs": [],
   "source": [
    "class Model:\n",
    "    def __init__(self, data):\n",
    "        self.data = data\n",
    "        self.data['timestamp'] = pd.to_datetime(self.data['timestamp'])\n",
    "        self.data.sort_values(by='timestamp', inplace=True)\n",
    "\n",
    "    # removes rows with time outside work hours i.e 5am to 12am\n",
    "    def filterOutOfTime(self):\n",
    "        mask = (self.data['timestamp'].dt.time >= pd.to_datetime('05:00:00').time()) & \\\n",
    "               (self.data['timestamp'].dt.time <= pd.to_datetime('23:59:59').time())\n",
    "        self.data = self.data[mask]\n",
    "\n",
    "    # removes rows with suspicious vehicle_no\n",
    "    # not following (MH followed by two uppercase char followed by 4 digits)\n",
    "    def correctPlate(self):\n",
    "        pattern = re.compile(r'^MH[A-Z]{2}\\d{4}')\n",
    "        self.data = self.data[self.data['vehicle_no'].str.match(pattern, na=False)]\n",
    "\n",
    "    # stores daily counts of vehicles for each camera\n",
    "    def dailyCounts(self):\n",
    "        self.data['date'] = self.data['timestamp'].dt.date\n",
    "        group = self.data.groupby(['camera_id', 'date']).size().reset_index(name='vehicle_count')\n",
    "\n",
    "        self.daily_counts = {}\n",
    "        for camera_id, group in group.groupby('camera_id'):\n",
    "            self.daily_counts[camera_id] = group.reset_index(drop=True)\n",
    "    \n",
    "    # splits the data into training and testing sets\n",
    "    def split(self, metric, test_ratio = 0.2):\n",
    "        train_size = int(len(self.data) * (1 - test_ratio))\n",
    "\n",
    "        return self.data[:train_size][metric], self.data[train_size:][metric]\n",
    "\n",
    "model = Model(parkingData)\n",
    "model.filterOutOfTime()\n",
    "model.correctPlate()\n",
    "model.dailyCounts()\n",
    "\n"
   ]
  },
  {
   "cell_type": "markdown",
   "metadata": {},
   "source": [
    "The relevant data cleaning is done as of now. "
   ]
  }
 ],
 "metadata": {
  "kernelspec": {
   "display_name": "Python 3",
   "language": "python",
   "name": "python3"
  },
  "language_info": {
   "codemirror_mode": {
    "name": "ipython",
    "version": 3
   },
   "file_extension": ".py",
   "mimetype": "text/x-python",
   "name": "python",
   "nbconvert_exporter": "python",
   "pygments_lexer": "ipython3",
   "version": "3.10.12"
  }
 },
 "nbformat": 4,
 "nbformat_minor": 2
}
