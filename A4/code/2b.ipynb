{
 "cells": [
  {
   "metadata": {},
   "cell_type": "markdown",
   "source": [
    "# Question 2(b)\n",
    "Use an LLM to generate predictions see section 3 of [LLMTIME](https://arxiv.org/abs/2310.07820) for some ideas on\n",
    "tokenisation of input, handling null values. Report only your best working prompting strategy\n",
    "and their evaluations. (You are not expected to train/finetune an LLM nor use multimodal LLM\n",
    "i.e you input pdf or screenshot, your input to the LLM should be PROMPT + string generated\n",
    "from timeseries dataframe ideally by a script)"
   ],
   "id": "7af3cb5ed956650d"
  },
  {
   "metadata": {},
   "cell_type": "code",
   "source": "import pandas as pd",
   "id": "76fee7b48a3a3d38",
   "outputs": [],
   "execution_count": null
  },
  {
   "metadata": {},
   "cell_type": "markdown",
   "source": "Let's clean the data first.",
   "id": "8f358503837519e5"
  },
  {
   "metadata": {},
   "cell_type": "code",
   "source": [
    "data = pd.read_csv(\"AirtrafficA4.csv\")\n",
    "data['PASSENGERS CARRIED'] = data['PASSENGERS CARRIED'].str.replace(\",\", \"\").astype(float)\n",
    "data.fillna(float(0), inplace=True)\n",
    "data"
   ],
   "id": "52f9541cd434eb88",
   "outputs": [],
   "execution_count": null
  },
  {
   "metadata": {},
   "cell_type": "markdown",
   "source": "Then generate the prompt",
   "id": "65bae950430fbe78"
  },
  {
   "metadata": {
    "ExecuteTime": {
     "end_time": "2024-10-27T09:03:00.135931Z",
     "start_time": "2024-10-27T09:03:00.129067Z"
    }
   },
   "cell_type": "code",
   "source": [
    "def format_for_prompt(row):\n",
    "    return f\"Airline {row['AIRLINE']}, Year {row['YEAR']}, Month {row['MONTH']}, Passengers Carried: {row['PASSENGERS CARRIED']}.\"\n",
    "\n",
    "prompt_data = \" \".join(data.apply(format_for_prompt, axis = 1).tolist())\n",
    "prompt_data = \" Given the following monthly airline passenger data, predict and display the values for next 12 months (2023 SEP to 2024 AUG) for Passengers Carried, you need not show any code or your though process, just the final predicted values must be displayed, there's a season of 4 months: \" + prompt_data\n",
    "prompt_data"
   ],
   "id": "d16917480849f173",
   "outputs": [
    {
     "data": {
      "text/plain": [
       "\" Given the following monthly airline passenger data, predict and display the values for next 12 months (2023 SEP to 2024 AUG) for Passengers Carried, you need not show any code or your though process, just the final predicted values must be displayed, there's a season of 4 months: Airline A007, Year 2023, Month JAN, Passengers Carried: 6847384.0. Airline A007, Year 2023, Month FEB, Passengers Carried: 6741948.0. Airline A007, Year 2023, Month MAR, Passengers Carried: 7317288.0. Airline A007, Year 2023, Month APR, Passengers Carried: 7406440.0. Airline A007, Year 2023, Month MAY, Passengers Carried: 8109626.0. Airline A007, Year 2023, Month JUNE, Passengers Carried: 7893296.0. Airline A007, Year 2023, Month JULY, Passengers Carried: 7674890.0. Airline A007, Year 2023, Month AUG, Passengers Carried: 7867259.0. Airline A007, Year 2022, Month JAN, Passengers Carried: 3556558.0. Airline A007, Year 2022, Month FEB, Passengers Carried: 3950597.0. Airline A007, Year 2022, Month MAR, Passengers Carried: 5783838.0. Airline A007, Year 2022, Month APR, Passengers Carried: 5957411.0. Airline A007, Year 2022, Month MAY, Passengers Carried: 6376429.0. Airline A007, Year 2022, Month JUNE, Passengers Carried: 5982787.0. Airline A007, Year 2022, Month JULY, Passengers Carried: 5711288.0. Airline A007, Year 2022, Month AUG, Passengers Carried: 5832025.0. Airline A007, Year 2022, Month SEP, Passengers Carried: 5972449.0. Airline A007, Year 2022, Month OCT, Passengers Carried: 6471441.0. Airline A007, Year 2022, Month NOV, Passengers Carried: 6500903.0. Airline A007, Year 2022, Month DEC, Passengers Carried: 6997472.0. Airline A007, Year 2021, Month JAN, Passengers Carried: 4202712.0. Airline A007, Year 2021, Month FEB, Passengers Carried: 4238466.0. Airline A007, Year 2021, Month MAR, Passengers Carried: 4184920.0. Airline A007, Year 2021, Month APR, Passengers Carried: 3083318.0. Airline A007, Year 2021, Month MAY, Passengers Carried: 1168738.0. Airline A007, Year 2021, Month JUNE, Passengers Carried: 1701955.0. Airline A007, Year 2021, Month JULY, Passengers Carried: 2932469.0. Airline A007, Year 2021, Month AUG, Passengers Carried: 3816286.0. Airline A007, Year 2021, Month SEP, Passengers Carried: 3958375.0. Airline A007, Year 2021, Month OCT, Passengers Carried: 4807415.0. Airline A007, Year 2021, Month NOV, Passengers Carried: 5706021.0. Airline A007, Year 2021, Month DEC, Passengers Carried: 6140654.0. Airline A007, Year 2020, Month JAN, Passengers Carried: 6119924.0. Airline A007, Year 2020, Month FEB, Passengers Carried: 5931189.0. Airline A007, Year 2020, Month MAR, Passengers Carried: 3793464.0. Airline A007, Year 2020, Month APR, Passengers Carried: 0.0. Airline A007, Year 2020, Month MAY, Passengers Carried: 142254.0. Airline A007, Year 2020, Month JUNE, Passengers Carried: 1046836.0. Airline A007, Year 2020, Month JULY, Passengers Carried: 1272240.0. Airline A007, Year 2020, Month AUG, Passengers Carried: 1681787.0. Airline A007, Year 2020, Month SEP, Passengers Carried: 2265539.0. Airline A007, Year 2020, Month OCT, Passengers Carried: 2926835.0. Airline A007, Year 2020, Month NOV, Passengers Carried: 3423059.0. Airline A007, Year 2020, Month DEC, Passengers Carried: 3951522.0. Airline A007, Year 2019, Month JAN, Passengers Carried: 5321832.0. Airline A007, Year 2019, Month FEB, Passengers Carried: 4930608.0. Airline A007, Year 2019, Month MAR, Passengers Carried: 5440796.0. Airline A007, Year 2019, Month APR, Passengers Carried: 5481088.0. Airline A007, Year 2019, Month MAY, Passengers Carried: 5979551.0. Airline A007, Year 2019, Month JUNE, Passengers Carried: 5778376.0. Airline A007, Year 2019, Month JULY, Passengers Carried: 5693448.0. Airline A007, Year 2019, Month AUG, Passengers Carried: 5540693.0. Airline A007, Year 2019, Month SEP, Passengers Carried: 5559031.0. Airline A007, Year 2019, Month OCT, Passengers Carried: 5842318.0. Airline A007, Year 2019, Month NOV, Passengers Carried: 6151347.0. Airline A007, Year 2019, Month DEC, Passengers Carried: 6188457.0. Airline A007, Year 2018, Month JAN, Passengers Carried: 4556904.0. Airline A007, Year 2018, Month FEB, Passengers Carried: 4290189.0. Airline A007, Year 2018, Month MAR, Passengers Carried: 4576236.0. Airline A007, Year 2018, Month APR, Passengers Carried: 4579916.0. Airline A007, Year 2018, Month MAY, Passengers Carried: 4852909.0. Airline A007, Year 2018, Month JUNE, Passengers Carried: 4672686.0. Airline A007, Year 2018, Month JULY, Passengers Carried: 5002416.0. Airline A007, Year 2018, Month AUG, Passengers Carried: 4757378.0. Airline A007, Year 2018, Month SEP, Passengers Carried: 4920335.0. Airline A007, Year 2018, Month OCT, Passengers Carried: 5074853.0. Airline A007, Year 2018, Month NOV, Passengers Carried: 5005919.0. Airline A007, Year 2018, Month DEC, Passengers Carried: 5478523.0. Airline A007, Year 2017, Month JAN, Passengers Carried: 3809228.0. Airline A007, Year 2017, Month FEB, Passengers Carried: 3418605.0. Airline A007, Year 2017, Month MAR, Passengers Carried: 3611371.0. Airline A007, Year 2017, Month APR, Passengers Carried: 3778780.0. Airline A007, Year 2017, Month MAY, Passengers Carried: 4190914.0. Airline A007, Year 2017, Month JUNE, Passengers Carried: 3825814.0. Airline A007, Year 2017, Month JULY, Passengers Carried: 3699451.0. Airline A007, Year 2017, Month AUG, Passengers Carried: 3678245.0. Airline A007, Year 2017, Month SEP, Passengers Carried: 3664509.0. Airline A007, Year 2017, Month OCT, Passengers Carried: 4133027.0. Airline A007, Year 2017, Month NOV, Passengers Carried: 4131844.0. Airline A007, Year 2017, Month DEC, Passengers Carried: 4430070.0. Airline A007, Year 2016, Month JAN, Passengers Carried: 2725711.0. Airline A007, Year 2016, Month FEB, Passengers Carried: 2754131.0. Airline A007, Year 2016, Month MAR, Passengers Carried: 3023228.0. Airline A007, Year 2016, Month APR, Passengers Carried: 3066556.0. Airline A007, Year 2016, Month MAY, Passengers Carried: 3336839.0. Airline A007, Year 2016, Month JUNE, Passengers Carried: 3023081.0. Airline A007, Year 2016, Month JULY, Passengers Carried: 3383768.0. Airline A007, Year 2016, Month AUG, Passengers Carried: 3341081.0. Airline A007, Year 2016, Month SEP, Passengers Carried: 3295826.0. Airline A007, Year 2016, Month OCT, Passengers Carried: 3692828.0. Airline A007, Year 2016, Month NOV, Passengers Carried: 3772583.0. Airline A007, Year 2016, Month DEC, Passengers Carried: 3848322.0. Airline A007, Year 2015, Month JAN, Passengers Carried: 2276404.0. Airline A007, Year 2015, Month FEB, Passengers Carried: 2230645.0. Airline A007, Year 2015, Month MAR, Passengers Carried: 2286128.0. Airline A007, Year 2015, Month APR, Passengers Carried: 2481285.0. Airline A007, Year 2015, Month MAY, Passengers Carried: 2769283.0. Airline A007, Year 2015, Month JUNE, Passengers Carried: 2536554.0. Airline A007, Year 2015, Month JULY, Passengers Carried: 2416916.0. Airline A007, Year 2015, Month AUG, Passengers Carried: 2384943.0. Airline A007, Year 2015, Month SEP, Passengers Carried: 2430449.0. Airline A007, Year 2015, Month OCT, Passengers Carried: 2589861.0. Airline A007, Year 2015, Month NOV, Passengers Carried: 2597765.0. Airline A007, Year 2015, Month DEC, Passengers Carried: 2743325.0. Airline A007, Year 2014, Month JAN, Passengers Carried: 1426580.0. Airline A007, Year 2014, Month FEB, Passengers Carried: 1464070.0. Airline A007, Year 2014, Month MAR, Passengers Carried: 1601141.0. Airline A007, Year 2014, Month APR, Passengers Carried: 1679963.0. Airline A007, Year 2014, Month MAY, Passengers Carried: 1908334.0. Airline A007, Year 2014, Month JUNE, Passengers Carried: 1797101.0. Airline A007, Year 2014, Month JULY, Passengers Carried: 1599977.0. Airline A007, Year 2014, Month AUG, Passengers Carried: 1858664.0. Airline A007, Year 2014, Month SEP, Passengers Carried: 1907378.0. Airline A007, Year 2014, Month OCT, Passengers Carried: 1890273.0. Airline A007, Year 2014, Month NOV, Passengers Carried: 1967992.0. Airline A007, Year 2014, Month DEC, Passengers Carried: 2324221.0. Airline A007, Year 2013, Month JAN , Passengers Carried: 1408012.0. Airline A007, Year 2013, Month FEB , Passengers Carried: 1341210.0. Airline A007, Year 2013, Month MAR , Passengers Carried: 1423569.0. Airline A007, Year 2013, Month APR , Passengers Carried: 1511094.0. Airline A007, Year 2013, Month MAY , Passengers Carried: 1685168.0. Airline A007, Year 2013, Month JUNE, Passengers Carried: 1480879.0. Airline A007, Year 2013, Month JULY, Passengers Carried: 1445248.0. Airline A007, Year 2013, Month AUG , Passengers Carried: 1531406.0. Airline A007, Year 2013, Month SEP , Passengers Carried: 1378691.0. Airline A007, Year 2013, Month OCT , Passengers Carried: 1510184.0. Airline A007, Year 2013, Month NOV , Passengers Carried: 1467763.0. Airline A007, Year 2013, Month DEC , Passengers Carried: 1575872.0.\""
      ]
     },
     "execution_count": 36,
     "metadata": {},
     "output_type": "execute_result"
    }
   ],
   "execution_count": 36
  },
  {
   "metadata": {},
   "cell_type": "markdown",
   "source": [
    "Here's the output predicted by GPT-4o:\n",
    "\n",
    "|YEAR_MONTH|PASSENGERS CARRIED|\n",
    "|----------|------------------|\n",
    "|2023 SEP|7789024|\n",
    "|2023 OCT|8122317|\n",
    "|2023 NOV|8225536|\n",
    "|2023 DEC|8504783|\n",
    "|2024 JAN|7739815|\n",
    "|2024 FEB|7631294|\n",
    "|2024 MAR|8124572|\n",
    "|2024 APR|8218501|\n",
    "|2024 MAY|8802926|\n",
    "|2024 JUN|8550792|\n",
    "|2024 JUL|8289312|\n",
    "|2024 AUG|8494387|\n",
    "\n",
    "This gave a score of `2.50` on the Kaggle competition"
   ],
   "id": "c1742c8ed46b4b93"
  }
 ],
 "metadata": {
  "kernelspec": {
   "display_name": "Python 3",
   "language": "python",
   "name": "python3"
  },
  "language_info": {
   "codemirror_mode": {
    "name": "ipython",
    "version": 2
   },
   "file_extension": ".py",
   "mimetype": "text/x-python",
   "name": "python",
   "nbconvert_exporter": "python",
   "pygments_lexer": "ipython2",
   "version": "2.7.6"
  }
 },
 "nbformat": 4,
 "nbformat_minor": 5
}
